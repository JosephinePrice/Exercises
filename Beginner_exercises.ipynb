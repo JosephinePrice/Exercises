{
 "cells": [
  {
   "cell_type": "code",
   "execution_count": null,
   "id": "a55d5ec7",
   "metadata": {},
   "outputs": [],
   "source": [
    "# https://github.com/4GeeksAcademy/python-beginner-programming-exercises/tree/master/exercises"
   ]
  },
  {
   "cell_type": "code",
   "execution_count": 2,
   "id": "94994cde",
   "metadata": {},
   "outputs": [
    {
     "name": "stdout",
     "output_type": "stream",
     "text": [
      "scooby doo\n"
     ]
    }
   ],
   "source": [
    "name = \"scooby doo\"\n",
    "print (name)"
   ]
  },
  {
   "cell_type": "code",
   "execution_count": 3,
   "id": "0354e38f",
   "metadata": {},
   "outputs": [
    {
     "name": "stdout",
     "output_type": "stream",
     "text": [
      "6\n"
     ]
    }
   ],
   "source": [
    "resulting_value = 2*3\n",
    "print (resulting_value)\n",
    "\n"
   ]
  },
  {
   "cell_type": "code",
   "execution_count": 4,
   "id": "e2cc1cd0",
   "metadata": {},
   "outputs": [
    {
     "name": "stdout",
     "output_type": "stream",
     "text": [
      "17172435\n"
     ]
    }
   ],
   "source": [
    "# Exercise 4 - Multiple two values \n",
    "\n",
    "variables_are_cool = 2345*7323\n",
    "print (variables_are_cool)\n"
   ]
  },
  {
   "cell_type": "code",
   "execution_count": 5,
   "id": "18c7ff6e",
   "metadata": {},
   "outputs": [
    {
     "name": "stdout",
     "output_type": "stream",
     "text": [
      "What is your age?\n",
      "24\n",
      "Your age is: 34\n"
     ]
    }
   ],
   "source": [
    "# Exercise 5 - User inputed values\n",
    "\n",
    "age = int(input('What is your age?\\n'))\n",
    "age = age + 10\n",
    "print(\"Your age is: \"+str(age))"
   ]
  },
  {
   "cell_type": "code",
   "execution_count": 6,
   "id": "9c6f9190",
   "metadata": {
    "scrolled": true
   },
   "outputs": [
    {
     "name": "stdout",
     "output_type": "stream",
     "text": [
      "pizza margerita\n"
     ]
    }
   ],
   "source": [
    "# Exercise 6 - String Concatenation (merging strings together)\n",
    "# Set the values for my_var1 and my_var2 here\n",
    "\n",
    "my_var1 = 'pizza'\n",
    "my_var2 = 'margerita'\n",
    "## Don't change below this line\n",
    "the_new_string = my_var1+' '+my_var2\n",
    "print(the_new_string)\n",
    "\n"
   ]
  },
  {
   "cell_type": "code",
   "execution_count": 13,
   "id": "2e431f9a",
   "metadata": {},
   "outputs": [],
   "source": [
    "# Exercise 7 - Create a basic html\n",
    "\n",
    "a = '</title>'\n",
    "b = '</html>'\n",
    "c = '<head>'\n",
    "d = '</body>'\n",
    "e = '<html>'\n",
    "f = '</head>'\n",
    "g = '<title>'\n",
    "h = '<body>'\n",
    "\n",
    "# ⬆ DON'T CHANGE THE CODE ABOVE ⬆\n",
    "# ↓ start coding below here ↓\n",
    "\n",
    "html_document = e+c+g+a+f+h+d+b"
   ]
  },
  {
   "cell_type": "code",
   "execution_count": 14,
   "id": "ed2c5c28",
   "metadata": {},
   "outputs": [
    {
     "name": "stdout",
     "output_type": "stream",
     "text": [
      "<html><head><title></title></head><body></body></html>\n"
     ]
    }
   ],
   "source": [
    "print (html_document)"
   ]
  },
  {
   "cell_type": "code",
   "execution_count": null,
   "id": "804efc62",
   "metadata": {
    "scrolled": false
   },
   "outputs": [],
   "source": [
    "# Exercise 8 - If & Else commands\n",
    "    \n",
    "    total = int(input('How much money do you have in your pocket\\n'))\n",
    "    if total > 100:\n",
    "        print ('Give me your money!')\n",
    "    elif total > 50: \n",
    "        print ('Buy me some coffee you cheap!')\n",
    "    elif total <= 50:\n",
    "        print ('You are a poor guy, go away!')\n",
    "    \n",
    "        \n",
    " "
   ]
  },
  {
   "cell_type": "code",
   "execution_count": 53,
   "id": "e97c7b78",
   "metadata": {},
   "outputs": [
    {
     "name": "stdout",
     "output_type": "stream",
     "text": [
      "lol\n"
     ]
    }
   ],
   "source": [
    "total = 100\n",
    "if total > 100:\n",
    "    print('hi')\n",
    "# else:\n",
    "#     if total == 100:\n",
    "#         print('lol')\n",
    "elif total == 100:\n",
    "        print('lol')"
   ]
  },
  {
   "cell_type": "code",
   "execution_count": 54,
   "id": "7d562503",
   "metadata": {},
   "outputs": [
    {
     "name": "stdout",
     "output_type": "stream",
     "text": [
      "The Zen of Python, by Tim Peters\n",
      "\n",
      "Beautiful is better than ugly.\n",
      "Explicit is better than implicit.\n",
      "Simple is better than complex.\n",
      "Complex is better than complicated.\n",
      "Flat is better than nested.\n",
      "Sparse is better than dense.\n",
      "Readability counts.\n",
      "Special cases aren't special enough to break the rules.\n",
      "Although practicality beats purity.\n",
      "Errors should never pass silently.\n",
      "Unless explicitly silenced.\n",
      "In the face of ambiguity, refuse the temptation to guess.\n",
      "There should be one-- and preferably only one --obvious way to do it.\n",
      "Although that way may not be obvious at first unless you're Dutch.\n",
      "Now is better than never.\n",
      "Although never is often better than *right* now.\n",
      "If the implementation is hard to explain, it's a bad idea.\n",
      "If the implementation is easy to explain, it may be a good idea.\n",
      "Namespaces are one honking great idea -- let's do more of those!\n"
     ]
    }
   ],
   "source": [
    "import this"
   ]
  },
  {
   "cell_type": "code",
   "execution_count": 32,
   "id": "8d7cd11a",
   "metadata": {
    "collapsed": true
   },
   "outputs": [
    {
     "ename": "KeyboardInterrupt",
     "evalue": "Interrupted by user",
     "output_type": "error",
     "traceback": [
      "\u001b[1;31m---------------------------------------------------------------------------\u001b[0m",
      "\u001b[1;31mKeyboardInterrupt\u001b[0m                         Traceback (most recent call last)",
      "\u001b[1;32m<ipython-input-32-88cd3dda29d8>\u001b[0m in \u001b[0;36m<module>\u001b[1;34m\u001b[0m\n\u001b[0;32m      1\u001b[0m \u001b[1;31m# Exercise 8\u001b[0m\u001b[1;33m\u001b[0m\u001b[1;33m\u001b[0m\u001b[1;33m\u001b[0m\u001b[0m\n\u001b[0;32m      2\u001b[0m \u001b[1;33m\u001b[0m\u001b[0m\n\u001b[1;32m----> 3\u001b[1;33m \u001b[0muser_input\u001b[0m \u001b[1;33m=\u001b[0m \u001b[0mint\u001b[0m\u001b[1;33m(\u001b[0m\u001b[0minput\u001b[0m\u001b[1;33m(\u001b[0m\u001b[1;34m'How many people are coming to your wedding?\\n'\u001b[0m\u001b[1;33m)\u001b[0m\u001b[1;33m)\u001b[0m\u001b[1;33m\u001b[0m\u001b[1;33m\u001b[0m\u001b[0m\n\u001b[0m\u001b[0;32m      4\u001b[0m \u001b[1;33m\u001b[0m\u001b[0m\n\u001b[0;32m      5\u001b[0m \u001b[1;32mif\u001b[0m \u001b[0muser_input\u001b[0m \u001b[1;33m<=\u001b[0m \u001b[1;36m50\u001b[0m\u001b[1;33m:\u001b[0m\u001b[1;33m\u001b[0m\u001b[1;33m\u001b[0m\u001b[0m\n",
      "\u001b[1;32m~\\anaconda3\\lib\\site-packages\\ipykernel\\kernelbase.py\u001b[0m in \u001b[0;36mraw_input\u001b[1;34m(self, prompt)\u001b[0m\n\u001b[0;32m    858\u001b[0m                 \u001b[1;34m\"raw_input was called, but this frontend does not support input requests.\"\u001b[0m\u001b[1;33m\u001b[0m\u001b[1;33m\u001b[0m\u001b[0m\n\u001b[0;32m    859\u001b[0m             )\n\u001b[1;32m--> 860\u001b[1;33m         return self._input_request(str(prompt),\n\u001b[0m\u001b[0;32m    861\u001b[0m             \u001b[0mself\u001b[0m\u001b[1;33m.\u001b[0m\u001b[0m_parent_ident\u001b[0m\u001b[1;33m,\u001b[0m\u001b[1;33m\u001b[0m\u001b[1;33m\u001b[0m\u001b[0m\n\u001b[0;32m    862\u001b[0m             \u001b[0mself\u001b[0m\u001b[1;33m.\u001b[0m\u001b[0m_parent_header\u001b[0m\u001b[1;33m,\u001b[0m\u001b[1;33m\u001b[0m\u001b[1;33m\u001b[0m\u001b[0m\n",
      "\u001b[1;32m~\\anaconda3\\lib\\site-packages\\ipykernel\\kernelbase.py\u001b[0m in \u001b[0;36m_input_request\u001b[1;34m(self, prompt, ident, parent, password)\u001b[0m\n\u001b[0;32m    902\u001b[0m             \u001b[1;32mexcept\u001b[0m \u001b[0mKeyboardInterrupt\u001b[0m\u001b[1;33m:\u001b[0m\u001b[1;33m\u001b[0m\u001b[1;33m\u001b[0m\u001b[0m\n\u001b[0;32m    903\u001b[0m                 \u001b[1;31m# re-raise KeyboardInterrupt, to truncate traceback\u001b[0m\u001b[1;33m\u001b[0m\u001b[1;33m\u001b[0m\u001b[1;33m\u001b[0m\u001b[0m\n\u001b[1;32m--> 904\u001b[1;33m                 \u001b[1;32mraise\u001b[0m \u001b[0mKeyboardInterrupt\u001b[0m\u001b[1;33m(\u001b[0m\u001b[1;34m\"Interrupted by user\"\u001b[0m\u001b[1;33m)\u001b[0m \u001b[1;32mfrom\u001b[0m \u001b[1;32mNone\u001b[0m\u001b[1;33m\u001b[0m\u001b[1;33m\u001b[0m\u001b[0m\n\u001b[0m\u001b[0;32m    905\u001b[0m             \u001b[1;32mexcept\u001b[0m \u001b[0mException\u001b[0m \u001b[1;32mas\u001b[0m \u001b[0me\u001b[0m\u001b[1;33m:\u001b[0m\u001b[1;33m\u001b[0m\u001b[1;33m\u001b[0m\u001b[0m\n\u001b[0;32m    906\u001b[0m                 \u001b[0mself\u001b[0m\u001b[1;33m.\u001b[0m\u001b[0mlog\u001b[0m\u001b[1;33m.\u001b[0m\u001b[0mwarning\u001b[0m\u001b[1;33m(\u001b[0m\u001b[1;34m\"Invalid Message:\"\u001b[0m\u001b[1;33m,\u001b[0m \u001b[0mexc_info\u001b[0m\u001b[1;33m=\u001b[0m\u001b[1;32mTrue\u001b[0m\u001b[1;33m)\u001b[0m\u001b[1;33m\u001b[0m\u001b[1;33m\u001b[0m\u001b[0m\n",
      "\u001b[1;31mKeyboardInterrupt\u001b[0m: Interrupted by user"
     ]
    },
    {
     "name": "stdout",
     "output_type": "stream",
     "text": [
      "How many people are coming to your wedding?\n",
      "600\n"
     ]
    }
   ],
   "source": [
    "# Exercise 8.a \n",
    "\n",
    "user_input = int(input('How many people are coming to your wedding?\\n'))\n",
    "\n",
    "if user_input <= 50:\n",
    "    price = 4000\n",
    "else:\n",
    "    if user_input <= 100:\n",
    "        price = 10000\n",
    "elif user_input <= 200:\n",
    "    price = 15000\n",
    "else:\n",
    "    price = 20000\n",
    "\n",
    "print('Your wedding will cost '+str(price)+' dollars')"
   ]
  },
  {
   "cell_type": "code",
   "execution_count": 41,
   "id": "264a1b42",
   "metadata": {
    "scrolled": true
   },
   "outputs": [
    {
     "name": "stdout",
     "output_type": "stream",
     "text": [
      "5\n"
     ]
    }
   ],
   "source": [
    "# Excerise 9 - Random umbers\n",
    "\n",
    "import random\n",
    "\n",
    "def get_randomInt():\n",
    "    \n",
    "  # CHANGE ONLY THIS LINE BELOW\n",
    "\n",
    "    random_number = random.randint(1, 10)\n",
    "    return random_number\n",
    "\n",
    "print(get_randomInt())\n"
   ]
  },
  {
   "cell_type": "code",
   "execution_count": 49,
   "id": "29707ffc",
   "metadata": {},
   "outputs": [
    {
     "name": "stdout",
     "output_type": "stream",
     "text": [
      "True\n"
     ]
    }
   ],
   "source": [
    "# Excerise 10 - Calling your first function\n",
    "\n",
    "def is_odd(my_number):\n",
    "      return (my_number % 2 != 0)\n",
    "\n",
    "def my_main_code():\n",
    "    results = is_odd(45345)\n",
    "    print(results)\n",
    "    \n",
    "my_main_code()"
   ]
  },
  {
   "cell_type": "code",
   "execution_count": 4,
   "id": "edab3d95",
   "metadata": {},
   "outputs": [
    {
     "name": "stdout",
     "output_type": "stream",
     "text": [
      "7\n"
     ]
    }
   ],
   "source": [
    "# Excerise 10.a - Creating your first function\n",
    "\n",
    "def addNumbers(a,b):\n",
    "    return (a + b)\n",
    "\n",
    "print(addNumbers(3,4));"
   ]
  },
  {
   "cell_type": "code",
   "execution_count": 10,
   "id": "1d6425ea",
   "metadata": {},
   "outputs": [
    {
     "name": "stdout",
     "output_type": "stream",
     "text": [
      "Random number between 0 and 10 is 3\n"
     ]
    }
   ],
   "source": [
    "# Exercise 11 - Create a new function \n",
    "\n",
    "#example\n",
    "\n",
    "import random\n",
    "r1 = random.randint(0,10)\n",
    "print (\"Random number between 0 and 10 is % s\"%(r1))"
   ]
  },
  {
   "cell_type": "code",
   "execution_count": 19,
   "id": "2d343998",
   "metadata": {
    "scrolled": true
   },
   "outputs": [
    {
     "name": "stdout",
     "output_type": "stream",
     "text": [
      "9\n"
     ]
    },
    {
     "data": {
      "text/plain": [
       "9"
      ]
     },
     "execution_count": 19,
     "metadata": {},
     "output_type": "execute_result"
    }
   ],
   "source": [
    "import random \n",
    "\n",
    "def generate_random():\n",
    "    r = random.randint(0,9)\n",
    "    print(r)\n",
    "    return r \n",
    "\n",
    "generate_random()\n"
   ]
  },
  {
   "cell_type": "code",
   "execution_count": 20,
   "id": "80463c58",
   "metadata": {},
   "outputs": [
    {
     "name": "stdout",
     "output_type": "stream",
     "text": [
      "12\n"
     ]
    },
    {
     "data": {
      "text/plain": [
       "12"
      ]
     },
     "execution_count": 20,
     "metadata": {},
     "output_type": "execute_result"
    }
   ],
   "source": [
    "# Exercise 12 - Rand 1 to 12 \n",
    "\n",
    "import random \n",
    "\n",
    "def generate_random():\n",
    "    r = random.randint(1,12)\n",
    "    print(r)\n",
    "    return r \n",
    "\n",
    "generate_random()"
   ]
  },
  {
   "cell_type": "code",
   "execution_count": 34,
   "id": "115d62b3",
   "metadata": {
    "scrolled": true
   },
   "outputs": [
    {
     "name": "stdout",
     "output_type": "stream",
     "text": [
      "I will write questions if I am stuck\n",
      "I will write questions if I am stuck\n",
      "I will write questions if I am stuck\n",
      "I will write questions if I am stuck\n",
      "I will write questions if I am stuck\n",
      "I will write questions if I am stuck\n",
      "I will write questions if I am stuck\n",
      "I will write questions if I am stuck\n",
      "I will write questions if I am stuck\n",
      "I will write questions if I am stuck\n",
      "I will write questions if I am stuck\n",
      "I will write questions if I am stuck\n",
      "I will write questions if I am stuck\n",
      "I will write questions if I am stuck\n",
      "I will write questions if I am stuck\n",
      "I will write questions if I am stuck\n",
      "I will write questions if I am stuck\n",
      "I will write questions if I am stuck\n",
      "I will write questions if I am stuck\n",
      "I will write questions if I am stuck\n",
      "I will write questions if I am stuck\n",
      "I will write questions if I am stuck\n",
      "I will write questions if I am stuck\n",
      "I will write questions if I am stuck\n",
      "I will write questions if I am stuck\n",
      "I will write questions if I am stuck\n",
      "I will write questions if I am stuck\n",
      "I will write questions if I am stuck\n",
      "I will write questions if I am stuck\n",
      "I will write questions if I am stuck\n",
      "I will write questions if I am stuck\n",
      "I will write questions if I am stuck\n",
      "I will write questions if I am stuck\n",
      "I will write questions if I am stuck\n",
      "I will write questions if I am stuck\n",
      "I will write questions if I am stuck\n",
      "I will write questions if I am stuck\n",
      "I will write questions if I am stuck\n",
      "I will write questions if I am stuck\n",
      "I will write questions if I am stuck\n",
      "I will write questions if I am stuck\n",
      "I will write questions if I am stuck\n",
      "I will write questions if I am stuck\n",
      "I will write questions if I am stuck\n",
      "I will write questions if I am stuck\n",
      "I will write questions if I am stuck\n",
      "I will write questions if I am stuck\n",
      "I will write questions if I am stuck\n",
      "I will write questions if I am stuck\n",
      "I will write questions if I am stuck\n",
      "I will write questions if I am stuck\n",
      "I will write questions if I am stuck\n",
      "I will write questions if I am stuck\n",
      "I will write questions if I am stuck\n",
      "I will write questions if I am stuck\n",
      "I will write questions if I am stuck\n",
      "I will write questions if I am stuck\n",
      "I will write questions if I am stuck\n",
      "I will write questions if I am stuck\n",
      "I will write questions if I am stuck\n",
      "I will write questions if I am stuck\n",
      "I will write questions if I am stuck\n",
      "I will write questions if I am stuck\n",
      "I will write questions if I am stuck\n",
      "I will write questions if I am stuck\n",
      "I will write questions if I am stuck\n",
      "I will write questions if I am stuck\n",
      "I will write questions if I am stuck\n",
      "I will write questions if I am stuck\n",
      "I will write questions if I am stuck\n",
      "I will write questions if I am stuck\n",
      "I will write questions if I am stuck\n",
      "I will write questions if I am stuck\n",
      "I will write questions if I am stuck\n",
      "I will write questions if I am stuck\n",
      "I will write questions if I am stuck\n",
      "I will write questions if I am stuck\n",
      "I will write questions if I am stuck\n",
      "I will write questions if I am stuck\n",
      "I will write questions if I am stuck\n",
      "I will write questions if I am stuck\n",
      "I will write questions if I am stuck\n",
      "I will write questions if I am stuck\n",
      "I will write questions if I am stuck\n",
      "I will write questions if I am stuck\n",
      "I will write questions if I am stuck\n",
      "I will write questions if I am stuck\n",
      "I will write questions if I am stuck\n",
      "I will write questions if I am stuck\n",
      "I will write questions if I am stuck\n",
      "I will write questions if I am stuck\n",
      "I will write questions if I am stuck\n",
      "I will write questions if I am stuck\n",
      "I will write questions if I am stuck\n",
      "I will write questions if I am stuck\n",
      "I will write questions if I am stuck\n",
      "I will write questions if I am stuck\n",
      "I will write questions if I am stuck\n",
      "I will write questions if I am stuck\n",
      "I will write questions if I am stuck\n",
      "I will write questions if I am stuck\n",
      "I will write questions if I am stuck\n",
      "I will write questions if I am stuck\n",
      "I will write questions if I am stuck\n",
      "I will write questions if I am stuck\n",
      "I will write questions if I am stuck\n",
      "I will write questions if I am stuck\n",
      "I will write questions if I am stuck\n",
      "I will write questions if I am stuck\n",
      "I will write questions if I am stuck\n",
      "I will write questions if I am stuck\n",
      "I will write questions if I am stuck\n",
      "I will write questions if I am stuck\n",
      "I will write questions if I am stuck\n",
      "I will write questions if I am stuck\n",
      "I will write questions if I am stuck\n",
      "I will write questions if I am stuck\n",
      "I will write questions if I am stuck\n",
      "I will write questions if I am stuck\n",
      "I will write questions if I am stuck\n",
      "I will write questions if I am stuck\n",
      "I will write questions if I am stuck\n",
      "I will write questions if I am stuck\n",
      "I will write questions if I am stuck\n",
      "I will write questions if I am stuck\n",
      "I will write questions if I am stuck\n",
      "I will write questions if I am stuck\n",
      "I will write questions if I am stuck\n",
      "I will write questions if I am stuck\n",
      "I will write questions if I am stuck\n",
      "I will write questions if I am stuck\n",
      "I will write questions if I am stuck\n",
      "I will write questions if I am stuck\n",
      "I will write questions if I am stuck\n",
      "I will write questions if I am stuck\n",
      "I will write questions if I am stuck\n",
      "I will write questions if I am stuck\n",
      "I will write questions if I am stuck\n",
      "I will write questions if I am stuck\n",
      "I will write questions if I am stuck\n",
      "I will write questions if I am stuck\n",
      "I will write questions if I am stuck\n",
      "I will write questions if I am stuck\n",
      "I will write questions if I am stuck\n",
      "I will write questions if I am stuck\n",
      "I will write questions if I am stuck\n",
      "I will write questions if I am stuck\n",
      "I will write questions if I am stuck\n",
      "I will write questions if I am stuck\n",
      "I will write questions if I am stuck\n",
      "I will write questions if I am stuck\n",
      "I will write questions if I am stuck\n",
      "I will write questions if I am stuck\n",
      "I will write questions if I am stuck\n",
      "I will write questions if I am stuck\n",
      "I will write questions if I am stuck\n",
      "I will write questions if I am stuck\n",
      "I will write questions if I am stuck\n",
      "I will write questions if I am stuck\n",
      "I will write questions if I am stuck\n",
      "I will write questions if I am stuck\n",
      "I will write questions if I am stuck\n",
      "I will write questions if I am stuck\n",
      "I will write questions if I am stuck\n",
      "I will write questions if I am stuck\n",
      "I will write questions if I am stuck\n",
      "I will write questions if I am stuck\n",
      "I will write questions if I am stuck\n",
      "I will write questions if I am stuck\n",
      "I will write questions if I am stuck\n",
      "I will write questions if I am stuck\n",
      "I will write questions if I am stuck\n",
      "I will write questions if I am stuck\n",
      "I will write questions if I am stuck\n",
      "I will write questions if I am stuck\n",
      "I will write questions if I am stuck\n",
      "I will write questions if I am stuck\n",
      "I will write questions if I am stuck\n",
      "I will write questions if I am stuck\n",
      "I will write questions if I am stuck\n",
      "I will write questions if I am stuck\n",
      "I will write questions if I am stuck\n",
      "I will write questions if I am stuck\n",
      "I will write questions if I am stuck\n",
      "I will write questions if I am stuck\n",
      "I will write questions if I am stuck\n",
      "I will write questions if I am stuck\n",
      "I will write questions if I am stuck\n",
      "I will write questions if I am stuck\n",
      "I will write questions if I am stuck\n",
      "I will write questions if I am stuck\n",
      "I will write questions if I am stuck\n",
      "I will write questions if I am stuck\n",
      "I will write questions if I am stuck\n",
      "I will write questions if I am stuck\n",
      "I will write questions if I am stuck\n",
      "I will write questions if I am stuck\n",
      "I will write questions if I am stuck\n",
      "I will write questions if I am stuck\n",
      "I will write questions if I am stuck\n",
      "I will write questions if I am stuck\n",
      "I will write questions if I am stuck\n",
      "I will write questions if I am stuck\n",
      "I will write questions if I am stuck\n",
      "I will write questions if I am stuck\n",
      "I will write questions if I am stuck\n",
      "I will write questions if I am stuck\n",
      "I will write questions if I am stuck\n",
      "I will write questions if I am stuck\n",
      "I will write questions if I am stuck\n",
      "I will write questions if I am stuck\n",
      "I will write questions if I am stuck\n",
      "I will write questions if I am stuck\n",
      "I will write questions if I am stuck\n",
      "I will write questions if I am stuck\n",
      "I will write questions if I am stuck\n",
      "I will write questions if I am stuck\n",
      "I will write questions if I am stuck\n",
      "I will write questions if I am stuck\n",
      "I will write questions if I am stuck\n",
      "I will write questions if I am stuck\n",
      "I will write questions if I am stuck\n",
      "I will write questions if I am stuck\n",
      "I will write questions if I am stuck\n",
      "I will write questions if I am stuck\n",
      "I will write questions if I am stuck\n",
      "I will write questions if I am stuck\n",
      "I will write questions if I am stuck\n",
      "I will write questions if I am stuck\n",
      "I will write questions if I am stuck\n",
      "I will write questions if I am stuck\n",
      "I will write questions if I am stuck\n",
      "I will write questions if I am stuck\n",
      "I will write questions if I am stuck\n",
      "I will write questions if I am stuck\n",
      "I will write questions if I am stuck\n",
      "I will write questions if I am stuck\n",
      "I will write questions if I am stuck\n",
      "I will write questions if I am stuck\n",
      "I will write questions if I am stuck\n",
      "I will write questions if I am stuck\n",
      "I will write questions if I am stuck\n",
      "I will write questions if I am stuck\n",
      "I will write questions if I am stuck\n",
      "I will write questions if I am stuck\n",
      "I will write questions if I am stuck\n",
      "I will write questions if I am stuck\n",
      "I will write questions if I am stuck\n",
      "I will write questions if I am stuck\n",
      "I will write questions if I am stuck\n",
      "I will write questions if I am stuck\n",
      "I will write questions if I am stuck\n",
      "I will write questions if I am stuck\n",
      "I will write questions if I am stuck\n",
      "I will write questions if I am stuck\n",
      "I will write questions if I am stuck\n",
      "I will write questions if I am stuck\n",
      "I will write questions if I am stuck\n",
      "I will write questions if I am stuck\n",
      "I will write questions if I am stuck\n",
      "I will write questions if I am stuck\n",
      "I will write questions if I am stuck\n",
      "I will write questions if I am stuck\n",
      "I will write questions if I am stuck\n",
      "I will write questions if I am stuck\n",
      "I will write questions if I am stuck\n",
      "I will write questions if I am stuck\n",
      "I will write questions if I am stuck\n",
      "I will write questions if I am stuck\n",
      "I will write questions if I am stuck\n",
      "I will write questions if I am stuck\n",
      "I will write questions if I am stuck\n",
      "I will write questions if I am stuck\n",
      "I will write questions if I am stuck\n",
      "I will write questions if I am stuck\n",
      "I will write questions if I am stuck\n",
      "I will write questions if I am stuck\n",
      "I will write questions if I am stuck\n",
      "I will write questions if I am stuck\n",
      "I will write questions if I am stuck\n",
      "I will write questions if I am stuck\n",
      "I will write questions if I am stuck\n",
      "I will write questions if I am stuck\n",
      "I will write questions if I am stuck\n",
      "I will write questions if I am stuck\n",
      "I will write questions if I am stuck\n",
      "I will write questions if I am stuck\n",
      "I will write questions if I am stuck\n",
      "I will write questions if I am stuck\n",
      "I will write questions if I am stuck\n",
      "I will write questions if I am stuck\n",
      "I will write questions if I am stuck\n",
      "I will write questions if I am stuck\n",
      "I will write questions if I am stuck\n",
      "I will write questions if I am stuck\n",
      "I will write questions if I am stuck\n",
      "I will write questions if I am stuck\n",
      "I will write questions if I am stuck\n",
      "I will write questions if I am stuck\n",
      "I will write questions if I am stuck\n"
     ]
    }
   ],
   "source": [
    "# Exercise 13 - Create A For Loop\n",
    "\n",
    "def standards_maker():\n",
    "    for x in range (300):\n",
    "        print('I will write questions if I am stuck')\n",
    "\n",
    "standards_maker()"
   ]
  },
  {
   "cell_type": "code",
   "execution_count": 37,
   "id": "3185675c",
   "metadata": {},
   "outputs": [
    {
     "name": "stdout",
     "output_type": "stream",
     "text": [
      "0\n",
      "1\n",
      "2\n",
      "3\n",
      "4\n",
      "5\n",
      "6\n",
      "7\n",
      "8\n",
      "9\n",
      "10\n",
      "11\n"
     ]
    },
    {
     "data": {
      "text/plain": [
       "11"
      ]
     },
     "execution_count": 37,
     "metadata": {},
     "output_type": "execute_result"
    }
   ],
   "source": [
    "#Exercise 14 - Your First loop \n",
    "\n",
    "def start_counting():\n",
    "    for i in range(12):\n",
    "        print(i)\n",
    "    return i\n",
    "\n",
    "start_counting()"
   ]
  },
  {
   "cell_type": "code",
   "execution_count": 107,
   "id": "b6e39ea5",
   "metadata": {},
   "outputs": [
    {
     "data": {
      "text/plain": [
       "[1,\n",
       " 2,\n",
       " 'fizz',\n",
       " 4,\n",
       " 'buzz',\n",
       " 'fizz',\n",
       " 7,\n",
       " 8,\n",
       " 'fizz',\n",
       " 'buzz',\n",
       " 11,\n",
       " 'fizz',\n",
       " 13,\n",
       " 14,\n",
       " 'fizzbuzz']"
      ]
     },
     "execution_count": 107,
     "metadata": {},
     "output_type": "execute_result"
    }
   ],
   "source": [
    "numbs = list(range(1, 101))\n",
    "def fizzbuzz(x):\n",
    "    if x % 3 == 0 and x % 5 != 0:\n",
    "        return 'fizz'\n",
    "    if x % 5 == 0 and x % 3 != 0:\n",
    "        return 'buzz'\n",
    "    if x % 3 == 0 and x % 5 == 0:\n",
    "        return 'fizzbuzz'\n",
    "    return x\n",
    "    \n",
    "list(map(fizzbuzz, numbs))[:15]"
   ]
  },
  {
   "cell_type": "code",
   "execution_count": 103,
   "id": "afbd9fea",
   "metadata": {},
   "outputs": [
    {
     "name": "stdout",
     "output_type": "stream",
     "text": [
      "1\n",
      "2\n",
      "Fizz\n",
      "4\n",
      "Buzz\n",
      "Fizz\n",
      "7\n",
      "8\n",
      "Fizz\n",
      "Buzz\n",
      "11\n",
      "Fizz\n",
      "13\n",
      "14\n",
      "FizzBuzz\n",
      "16\n",
      "17\n",
      "Fizz\n",
      "19\n",
      "Buzz\n",
      "Fizz\n",
      "22\n",
      "23\n",
      "Fizz\n",
      "Buzz\n",
      "26\n",
      "Fizz\n",
      "28\n",
      "29\n",
      "FizzBuzz\n",
      "31\n",
      "32\n",
      "Fizz\n",
      "34\n",
      "Buzz\n",
      "Fizz\n",
      "37\n",
      "38\n",
      "Fizz\n",
      "Buzz\n",
      "41\n",
      "Fizz\n",
      "43\n",
      "44\n",
      "FizzBuzz\n",
      "46\n",
      "47\n",
      "Fizz\n",
      "49\n",
      "Buzz\n",
      "Fizz\n",
      "52\n",
      "53\n",
      "Fizz\n",
      "Buzz\n",
      "56\n",
      "Fizz\n",
      "58\n",
      "59\n",
      "FizzBuzz\n",
      "61\n",
      "62\n",
      "Fizz\n",
      "64\n",
      "Buzz\n",
      "Fizz\n",
      "67\n",
      "68\n",
      "Fizz\n",
      "Buzz\n",
      "71\n",
      "Fizz\n",
      "73\n",
      "74\n",
      "FizzBuzz\n",
      "76\n",
      "77\n",
      "Fizz\n",
      "79\n",
      "Buzz\n",
      "Fizz\n",
      "82\n",
      "83\n",
      "Fizz\n",
      "Buzz\n",
      "86\n",
      "Fizz\n",
      "88\n",
      "89\n",
      "FizzBuzz\n",
      "91\n",
      "92\n",
      "Fizz\n",
      "94\n",
      "Buzz\n",
      "Fizz\n",
      "97\n",
      "98\n",
      "Fizz\n",
      "Buzz\n"
     ]
    }
   ],
   "source": [
    "#Exercise 15 - looping with fizzbuzz\n",
    "def fizz_buzz():\n",
    "    for i in range (1,101):\n",
    "        if i%3==0 and i%5==0:\n",
    "            print ('FizzBuzz')\n",
    "        \n",
    "        else:\n",
    "            if i%3==0:\n",
    "                print('Fizz')\n",
    "            \n",
    "            else:\n",
    "                if i%5==0:\n",
    "                    print ('Buzz')\n",
    "            \n",
    "                else:\n",
    "                    print(i) \n",
    "\n",
    "fizz_buzz()\n",
    "   "
   ]
  },
  {
   "cell_type": "code",
   "execution_count": 100,
   "id": "bdf11009",
   "metadata": {},
   "outputs": [
    {
     "ename": "NameError",
     "evalue": "name 'randint' is not defined",
     "output_type": "error",
     "traceback": [
      "\u001b[1;31m---------------------------------------------------------------------------\u001b[0m",
      "\u001b[1;31mNameError\u001b[0m                                 Traceback (most recent call last)",
      "\u001b[1;32m<ipython-input-100-b79910155951>\u001b[0m in \u001b[0;36m<module>\u001b[1;34m\u001b[0m\n\u001b[0;32m     24\u001b[0m \u001b[1;33m\u001b[0m\u001b[0m\n\u001b[0;32m     25\u001b[0m \u001b[1;32mfor\u001b[0m \u001b[0mx\u001b[0m \u001b[1;32min\u001b[0m \u001b[0mrange\u001b[0m\u001b[1;33m(\u001b[0m\u001b[1;36m10\u001b[0m\u001b[1;33m)\u001b[0m\u001b[1;33m:\u001b[0m\u001b[1;33m\u001b[0m\u001b[1;33m\u001b[0m\u001b[0m\n\u001b[1;32m---> 26\u001b[1;33m     \u001b[0mcolor_number\u001b[0m \u001b[1;33m=\u001b[0m \u001b[0mrandint\u001b[0m\u001b[1;33m(\u001b[0m\u001b[1;36m1\u001b[0m\u001b[1;33m,\u001b[0m\u001b[1;36m4\u001b[0m\u001b[1;33m)\u001b[0m\u001b[1;33m\u001b[0m\u001b[1;33m\u001b[0m\u001b[0m\n\u001b[0m\u001b[0;32m     27\u001b[0m \u001b[1;33m\u001b[0m\u001b[0m\n\u001b[0;32m     28\u001b[0m \u001b[1;33m\u001b[0m\u001b[0m\n",
      "\u001b[1;31mNameError\u001b[0m: name 'randint' is not defined"
     ]
    }
   ],
   "source": [
    "#Exercise 16 - Random Colors (loop)???\n",
    "\n",
    "import random\n",
    "\n",
    "def get_color(color_number=4):\n",
    "    # making sure is a number and not a string\n",
    "    color_number = int(color_number)\n",
    "\n",
    "    switcher={\n",
    "                  0:'red',\n",
    "                  1:'yellow',\n",
    "                  2:'blue',\n",
    "                  3:'green',\n",
    "                  4:'black'\n",
    "              }\n",
    "    return switcher.get(color_number,\"Invalid Color Number\")\n",
    "\n",
    "\n",
    "def get_allStudentColors():\n",
    "\n",
    "    example_color = 1\n",
    "    students_array = []\n",
    "    \n",
    "    #your loop here\n",
    "\n",
    "for x in range(10):\n",
    "    color_number = random.randint(1,4)\n",
    "    \n",
    "        \n",
    "    \n",
    "\n",
    "print(get_allStudentColors())"
   ]
  },
  {
   "cell_type": "code",
   "execution_count": 112,
   "id": "0b3eea1b",
   "metadata": {},
   "outputs": [
    {
     "data": {
      "text/plain": [
       "'red'"
      ]
     },
     "execution_count": 112,
     "metadata": {},
     "output_type": "execute_result"
    }
   ],
   "source": [
    "colours = ['red', 'yellow', 'blue', 'green']\n",
    "import random\n",
    "random.choice(colours)"
   ]
  },
  {
   "cell_type": "code",
   "execution_count": null,
   "id": "e4eed450",
   "metadata": {},
   "outputs": [],
   "source": []
  }
 ],
 "metadata": {
  "kernelspec": {
   "display_name": "Python 3",
   "language": "python",
   "name": "python3"
  },
  "language_info": {
   "codemirror_mode": {
    "name": "ipython",
    "version": 3
   },
   "file_extension": ".py",
   "mimetype": "text/x-python",
   "name": "python",
   "nbconvert_exporter": "python",
   "pygments_lexer": "ipython3",
   "version": "3.8.8"
  }
 },
 "nbformat": 4,
 "nbformat_minor": 5
}
